{
  "nbformat": 4,
  "nbformat_minor": 0,
  "metadata": {
    "colab": {
      "provenance": [],
      "mount_file_id": "13fhTviLQ2WzaXa_fJHMjQpicbXzlJezM",
      "authorship_tag": "ABX9TyN64+l/AVh0YTAc5+DC50o6",
      "include_colab_link": true
    },
    "kernelspec": {
      "name": "python3",
      "display_name": "Python 3"
    },
    "language_info": {
      "name": "python"
    }
  },
  "cells": [
    {
      "cell_type": "markdown",
      "metadata": {
        "id": "view-in-github",
        "colab_type": "text"
      },
      "source": [
        "<a href=\"https://colab.research.google.com/github/blcklamb/data-playground/blob/main/(%EA%B3%B5%EC%9C%A0%EC%9A%A9)%EC%9D%98%EB%A5%98%EC%88%98%EA%B1%B0%ED%95%A8_%EB%8D%B0%EC%9D%B4%ED%84%B0_%EC%A0%84%EC%B2%98%EB%A6%AC.ipynb\" target=\"_parent\"><img src=\"https://colab.research.google.com/assets/colab-badge.svg\" alt=\"Open In Colab\"/></a>"
      ]
    },
    {
      "cell_type": "markdown",
      "source": [
        "# Drive 연결 및 필요한 라이브러리 설치"
      ],
      "metadata": {
        "id": "bopPfUqvvV1z"
      }
    },
    {
      "cell_type": "code",
      "execution_count": null,
      "metadata": {
        "id": "TJqwktA5aZAT"
      },
      "outputs": [],
      "source": [
        "from google.colab import drive\n",
        "drive.mount('/content/drive')"
      ]
    },
    {
      "cell_type": "code",
      "source": [
        "import pandas as pd\n",
        "import uuid"
      ],
      "metadata": {
        "id": "xEoEdZz_m1dt"
      },
      "execution_count": null,
      "outputs": []
    },
    {
      "cell_type": "markdown",
      "source": [
        "# ClothingBoxLocation 한 테이블로 작성"
      ],
      "metadata": {
        "id": "lBUrh5PCrM2c"
      }
    },
    {
      "cell_type": "markdown",
      "source": [
        "# CSV 파일 import 및 전처리된 DataFrame 초기 설정"
      ],
      "metadata": {
        "id": "HzUofq6Ovbgi"
      }
    },
    {
      "cell_type": "code",
      "source": [
        "loc_name_list = ['관악구', '광진구', '구로구', '금천구', '동대문구', '동작구', '마포구', '서대문구', '양천구', '영등포구', '은평구', '종로구']\n",
        "csv_folder = # CSV 파일이 있는 폴더 directory ex. '/content/drive/MyDrive/주소 데이터/{}.csv'\n",
        "clothing_box_loc_dic = {}\n",
        "\n",
        "for loc_name in loc_name_list:\n",
        "  df = pd.read_csv(csv_folder.format(loc_name), encoding='cp949')\n",
        "  clothing_box_loc_dic[loc_name] = df"
      ],
      "metadata": {
        "id": "F_mLPia9QZLx"
      },
      "execution_count": null,
      "outputs": []
    },
    {
      "cell_type": "code",
      "source": [
        "basic_schema = {'id': [], 'address':[],'region':[], 'x':[],'y':[]}\n",
        "location_df = pd.DataFrame(basic_schema)\n",
        "\n",
        "location_df"
      ],
      "metadata": {
        "colab": {
          "base_uri": "https://localhost:8080/",
          "height": 53
        },
        "id": "04N4IwDKxWWS",
        "outputId": "a926347a-8160-494f-e3f1-b27a1745b928"
      },
      "execution_count": null,
      "outputs": [
        {
          "output_type": "execute_result",
          "data": {
            "text/plain": [
              "Empty DataFrame\n",
              "Columns: [id, address, region, x, y]\n",
              "Index: []"
            ],
            "text/html": [
              "\n",
              "  <div id=\"df-b31604ec-3eae-456e-b4bf-e76ed84c606c\" class=\"colab-df-container\">\n",
              "    <div>\n",
              "<style scoped>\n",
              "    .dataframe tbody tr th:only-of-type {\n",
              "        vertical-align: middle;\n",
              "    }\n",
              "\n",
              "    .dataframe tbody tr th {\n",
              "        vertical-align: top;\n",
              "    }\n",
              "\n",
              "    .dataframe thead th {\n",
              "        text-align: right;\n",
              "    }\n",
              "</style>\n",
              "<table border=\"1\" class=\"dataframe\">\n",
              "  <thead>\n",
              "    <tr style=\"text-align: right;\">\n",
              "      <th></th>\n",
              "      <th>id</th>\n",
              "      <th>address</th>\n",
              "      <th>region</th>\n",
              "      <th>x</th>\n",
              "      <th>y</th>\n",
              "    </tr>\n",
              "  </thead>\n",
              "  <tbody>\n",
              "  </tbody>\n",
              "</table>\n",
              "</div>\n",
              "    <div class=\"colab-df-buttons\">\n",
              "\n",
              "  <div class=\"colab-df-container\">\n",
              "    <button class=\"colab-df-convert\" onclick=\"convertToInteractive('df-b31604ec-3eae-456e-b4bf-e76ed84c606c')\"\n",
              "            title=\"Convert this dataframe to an interactive table.\"\n",
              "            style=\"display:none;\">\n",
              "\n",
              "  <svg xmlns=\"http://www.w3.org/2000/svg\" height=\"24px\" viewBox=\"0 -960 960 960\">\n",
              "    <path d=\"M120-120v-720h720v720H120Zm60-500h600v-160H180v160Zm220 220h160v-160H400v160Zm0 220h160v-160H400v160ZM180-400h160v-160H180v160Zm440 0h160v-160H620v160ZM180-180h160v-160H180v160Zm440 0h160v-160H620v160Z\"/>\n",
              "  </svg>\n",
              "    </button>\n",
              "\n",
              "  <style>\n",
              "    .colab-df-container {\n",
              "      display:flex;\n",
              "      gap: 12px;\n",
              "    }\n",
              "\n",
              "    .colab-df-convert {\n",
              "      background-color: #E8F0FE;\n",
              "      border: none;\n",
              "      border-radius: 50%;\n",
              "      cursor: pointer;\n",
              "      display: none;\n",
              "      fill: #1967D2;\n",
              "      height: 32px;\n",
              "      padding: 0 0 0 0;\n",
              "      width: 32px;\n",
              "    }\n",
              "\n",
              "    .colab-df-convert:hover {\n",
              "      background-color: #E2EBFA;\n",
              "      box-shadow: 0px 1px 2px rgba(60, 64, 67, 0.3), 0px 1px 3px 1px rgba(60, 64, 67, 0.15);\n",
              "      fill: #174EA6;\n",
              "    }\n",
              "\n",
              "    .colab-df-buttons div {\n",
              "      margin-bottom: 4px;\n",
              "    }\n",
              "\n",
              "    [theme=dark] .colab-df-convert {\n",
              "      background-color: #3B4455;\n",
              "      fill: #D2E3FC;\n",
              "    }\n",
              "\n",
              "    [theme=dark] .colab-df-convert:hover {\n",
              "      background-color: #434B5C;\n",
              "      box-shadow: 0px 1px 3px 1px rgba(0, 0, 0, 0.15);\n",
              "      filter: drop-shadow(0px 1px 2px rgba(0, 0, 0, 0.3));\n",
              "      fill: #FFFFFF;\n",
              "    }\n",
              "  </style>\n",
              "\n",
              "    <script>\n",
              "      const buttonEl =\n",
              "        document.querySelector('#df-b31604ec-3eae-456e-b4bf-e76ed84c606c button.colab-df-convert');\n",
              "      buttonEl.style.display =\n",
              "        google.colab.kernel.accessAllowed ? 'block' : 'none';\n",
              "\n",
              "      async function convertToInteractive(key) {\n",
              "        const element = document.querySelector('#df-b31604ec-3eae-456e-b4bf-e76ed84c606c');\n",
              "        const dataTable =\n",
              "          await google.colab.kernel.invokeFunction('convertToInteractive',\n",
              "                                                    [key], {});\n",
              "        if (!dataTable) return;\n",
              "\n",
              "        const docLinkHtml = 'Like what you see? Visit the ' +\n",
              "          '<a target=\"_blank\" href=https://colab.research.google.com/notebooks/data_table.ipynb>data table notebook</a>'\n",
              "          + ' to learn more about interactive tables.';\n",
              "        element.innerHTML = '';\n",
              "        dataTable['output_type'] = 'display_data';\n",
              "        await google.colab.output.renderOutput(dataTable, element);\n",
              "        const docLink = document.createElement('div');\n",
              "        docLink.innerHTML = docLinkHtml;\n",
              "        element.appendChild(docLink);\n",
              "      }\n",
              "    </script>\n",
              "  </div>\n",
              "\n",
              "    </div>\n",
              "  </div>\n"
            ]
          },
          "metadata": {},
          "execution_count": 37
        }
      ]
    },
    {
      "cell_type": "markdown",
      "source": [
        "# Kakao Map API 함수"
      ],
      "metadata": {
        "id": "ZPlaul4byC5c"
      }
    },
    {
      "cell_type": "code",
      "source": [
        "# Kakao map API\n",
        "import requests\n",
        "\n",
        "API_URL = 'https://dapi.kakao.com/v2/local/search/address.json'\n",
        "APP_KEY = #카카오 디벨로퍼스 REST API key\n",
        "\n",
        "def kakao_map(addr: str):\n",
        "    \"\"\"\n",
        "    :param addr: 도로명 주소\n",
        "    \"\"\"\n",
        "    headers = {'Authorization': 'KakaoAK {}'.format(APP_KEY)}\n",
        "\n",
        "    params = {\"query\": addr}\n",
        "\n",
        "    r = requests.get(API_URL, headers=headers, params=params)\n",
        "\n",
        "    if r.status_code == 200:\n",
        "      return r.json()\n",
        "    else:\n",
        "      return\n",
        "\n",
        "def get_XY_from_addr(addr:str):\n",
        "    \"\"\"\n",
        "    :param addr: 도로명 주소\n",
        "    \"\"\"\n",
        "    data = kakao_map(addr)\n",
        "\n",
        "    if len(data['documents']) > 0:\n",
        "      return [data[\"documents\"][0]['x'], data[\"documents\"][0]['y']]\n",
        "    return []"
      ],
      "metadata": {
        "id": "iYGCkD4cxs6w"
      },
      "execution_count": null,
      "outputs": []
    },
    {
      "cell_type": "markdown",
      "source": [
        "# 구 별 데이터 전처리 함수"
      ],
      "metadata": {
        "id": "HFxVYoHovxWQ"
      }
    },
    {
      "cell_type": "markdown",
      "source": [
        "## 관악구"
      ],
      "metadata": {
        "id": "iZUuvPFQw-a3"
      }
    },
    {
      "cell_type": "code",
      "source": [
        "def process_관악(df):\n",
        "  this_df = df.copy()\n",
        "\n",
        "  result = pd.DataFrame(basic_schema)\n",
        "\n",
        "  result['id'] = [uuid.uuid4() for _ in range(len(this_df.index))]\n",
        "  result['region'] = this_df['의류수거함'].map(lambda x: x.split('-')[0])\n",
        "  result['address'] = this_df['위치']\n",
        "\n",
        "  for row in range(len(this_df.index)):\n",
        "    position = get_XY_from_addr(this_df.iat[row, 1])\n",
        "    if len(position) > 0:\n",
        "      [x, y] = position\n",
        "      result.iat[row, 3] = x\n",
        "      result.iat[row, 4] = y\n",
        "\n",
        "  result.dropna(subset=['x'], inplace=True)\n",
        "\n",
        "  return result"
      ],
      "metadata": {
        "id": "1sAJDkCSx2Hz"
      },
      "execution_count": null,
      "outputs": []
    },
    {
      "cell_type": "markdown",
      "source": [
        "## 광진구\n"
      ],
      "metadata": {
        "id": "vbrDCej9xBEY"
      }
    },
    {
      "cell_type": "code",
      "source": [
        "def process_광진(df):\n",
        "  this_df = df.copy()\n",
        "\n",
        "  result = pd.DataFrame(basic_schema)\n",
        "\n",
        "  result['id'] = [uuid.uuid4() for _ in range(len(this_df.index))]\n",
        "  result['region'] = this_df['행정동']\n",
        "  result['address'] = this_df['지번주소'].map('서울특별시 광진구 {}'.format)\n",
        "\n",
        "  for row in range(len(this_df.index)):\n",
        "    position = get_XY_from_addr(this_df.iat[row, 1])\n",
        "    if len(position) > 0:\n",
        "      [x, y] = position\n",
        "      result.iat[row, 3] = x\n",
        "      result.iat[row, 4] = y\n",
        "\n",
        "  result.dropna(subset=['x'], inplace=True)\n",
        "\n",
        "  return result\n"
      ],
      "metadata": {
        "id": "vwdTLenTx-3K"
      },
      "execution_count": null,
      "outputs": []
    },
    {
      "cell_type": "markdown",
      "source": [
        "## 구로구\n"
      ],
      "metadata": {
        "id": "5kGvTzaUxFOB"
      }
    },
    {
      "cell_type": "code",
      "source": [
        "def process_구로(df):\n",
        "  this_df = df.copy()\n",
        "\n",
        "  result = pd.DataFrame(basic_schema)\n",
        "\n",
        "  result['id'] = [uuid.uuid4() for _ in range(len(this_df.index))]\n",
        "  result['region'] = this_df['행정동']\n",
        "  result['address'] = this_df['위치'].map('서울특별시 구로구 {}'.format)\n",
        "\n",
        "  for row in range(len(this_df.index)):\n",
        "    position = get_XY_from_addr(this_df.iat[row, 1])\n",
        "    if len(position) > 0:\n",
        "      [x, y] = position\n",
        "      result.iat[row, 3] = x\n",
        "      result.iat[row, 4] = y\n",
        "\n",
        "  result.dropna(subset=['x'], inplace=True)\n",
        "\n",
        "  return result"
      ],
      "metadata": {
        "id": "8d4gvqnqx_CW"
      },
      "execution_count": null,
      "outputs": []
    },
    {
      "cell_type": "markdown",
      "source": [
        "## 금천구"
      ],
      "metadata": {
        "id": "VGIEGSk2xHUv"
      }
    },
    {
      "cell_type": "code",
      "source": [
        "def process_금천(df):\n",
        "  this_df = df.copy()\n",
        "\n",
        "  result = pd.DataFrame(basic_schema)\n",
        "\n",
        "  result['id'] = [uuid.uuid4() for _ in range(len(this_df.index))]\n",
        "  result['region'] = this_df['행정동']\n",
        "  result['address'] = this_df['도로명주소']\n",
        "  result['x'] = this_df['위도']\n",
        "  result['y'] = this_df['경도']\n",
        "\n",
        "  result.dropna(subset=['x'], inplace=True)\n",
        "\n",
        "  return result"
      ],
      "metadata": {
        "id": "S5GYelL_x_Ld"
      },
      "execution_count": null,
      "outputs": []
    },
    {
      "cell_type": "markdown",
      "source": [
        "## 동대문구"
      ],
      "metadata": {
        "id": "qTGmC_PhxJIA"
      }
    },
    {
      "cell_type": "code",
      "source": [
        "def process_동대문(df):\n",
        "  this_df = df.copy()\n",
        "\n",
        "  result = pd.DataFrame(basic_schema)\n",
        "\n",
        "  result['id'] = [uuid.uuid4() for _ in range(len(this_df.index))]\n",
        "  result['region'] = this_df['행정동']\n",
        "  result['address'] = this_df['주소'].map(lambda x: x.replace('서울', '서울특별시'))\n",
        "  result['x'] = this_df['경도']\n",
        "  result['y'] = this_df['위도']\n",
        "\n",
        "  result.dropna(subset=['x'], inplace=True)\n",
        "\n",
        "  return result"
      ],
      "metadata": {
        "id": "jCCtkJ1ax_OF"
      },
      "execution_count": null,
      "outputs": []
    },
    {
      "cell_type": "markdown",
      "source": [
        "## 동작구"
      ],
      "metadata": {
        "id": "RMkb_-hbx3Z1"
      }
    },
    {
      "cell_type": "code",
      "source": [
        "def process_동작(df):\n",
        "  this_df = df.copy()\n",
        "\n",
        "  result = pd.DataFrame(basic_schema)\n",
        "\n",
        "  result['id'] = [uuid.uuid4() for _ in range(len(this_df.index))]\n",
        "  result['region'] = this_df['행정동']\n",
        "  result['address'] = this_df['주소']\n",
        "\n",
        "  for row in range(len(this_df.index)):\n",
        "    position = get_XY_from_addr(this_df.iat[row, 1])\n",
        "    if len(position) > 0:\n",
        "      [x, y] = position\n",
        "      result.iat[row, 3] = x\n",
        "      result.iat[row, 4] = y\n",
        "\n",
        "  result.dropna(subset=['x'], inplace=True)\n",
        "\n",
        "  return result"
      ],
      "metadata": {
        "id": "Gi-WBVO4x_Qs"
      },
      "execution_count": null,
      "outputs": []
    },
    {
      "cell_type": "markdown",
      "source": [
        "## 마포구"
      ],
      "metadata": {
        "id": "c-D3g_A0xMxE"
      }
    },
    {
      "cell_type": "code",
      "source": [
        "def process_마포(df):\n",
        "  this_df = df.copy()\n",
        "\n",
        "  result = pd.DataFrame(basic_schema)\n",
        "\n",
        "  result['id'] = [uuid.uuid4() for _ in range(len(this_df.index))]\n",
        "  result['region'] = this_df['행정동']\n",
        "  result['address'] = this_df['주소'].map('서울특별시 마포구 {}'.format)\n",
        "\n",
        "  for row in range(len(this_df.index)):\n",
        "    position = get_XY_from_addr(this_df.iat[row, 1])\n",
        "    if len(position) > 0:\n",
        "      [x, y] = position\n",
        "      result.iat[row, 3] = x\n",
        "      result.iat[row, 4] = y\n",
        "\n",
        "  result.dropna(subset=['x'], inplace=True)\n",
        "\n",
        "  return result"
      ],
      "metadata": {
        "id": "IiURrdmax_TB"
      },
      "execution_count": null,
      "outputs": []
    },
    {
      "cell_type": "markdown",
      "source": [
        "## 서대문구"
      ],
      "metadata": {
        "id": "gHGaQ7I6xOID"
      }
    },
    {
      "cell_type": "code",
      "source": [
        "def process_서대문(df):\n",
        "  this_df = df.copy()\n",
        "\n",
        "  result = pd.DataFrame(basic_schema)\n",
        "\n",
        "  result['id'] = [uuid.uuid4() for _ in range(len(this_df.index))]\n",
        "  result['region'] = this_df['행정동']\n",
        "  result['address'] = this_df['설치장소(도로명)'].map('서울특별시 서대문구 {}'.format)\n",
        "\n",
        "  for row in range(len(this_df.index)):\n",
        "    position = get_XY_from_addr(this_df.iat[row, 1])\n",
        "    if len(position) > 0:\n",
        "      [x, y] = position\n",
        "      result.iat[row, 3] = x\n",
        "      result.iat[row, 4] = y\n",
        "\n",
        "  result.dropna(subset=['x'], inplace=True)\n",
        "\n",
        "  return result"
      ],
      "metadata": {
        "id": "FL3wRnyax_VI"
      },
      "execution_count": null,
      "outputs": []
    },
    {
      "cell_type": "markdown",
      "source": [
        "## 양천구"
      ],
      "metadata": {
        "id": "RBqPTkh6xPt3"
      }
    },
    {
      "cell_type": "code",
      "source": [
        "def process_양천(df):\n",
        "  this_df = df.copy()\n",
        "\n",
        "  result = pd.DataFrame(basic_schema)\n",
        "\n",
        "  result['id'] = [uuid.uuid4() for _ in range(len(this_df.index))]\n",
        "  result['region'] = this_df['행정동']\n",
        "  result['address'] = this_df['도로명주소']\n",
        "\n",
        "  for row in range(len(this_df.index)):\n",
        "    position = get_XY_from_addr(this_df.iat[row, 1])\n",
        "    if len(position) > 0:\n",
        "      [x, y] = position\n",
        "      result.iat[row, 3] = x\n",
        "      result.iat[row, 4] = y\n",
        "\n",
        "  result.dropna(subset=['x'], inplace=True)\n",
        "\n",
        "  return result"
      ],
      "metadata": {
        "id": "kR_u802bx_Xi"
      },
      "execution_count": null,
      "outputs": []
    },
    {
      "cell_type": "markdown",
      "source": [
        "## 영등포구"
      ],
      "metadata": {
        "id": "GBcUW-ZPxQ1h"
      }
    },
    {
      "cell_type": "code",
      "source": [
        "def process_영등포(df):\n",
        "  this_df = df.copy()\n",
        "\n",
        "  result = pd.DataFrame(basic_schema)\n",
        "\n",
        "  result['id'] = [uuid.uuid4() for _ in range(len(this_df.index))]\n",
        "  result['region'] = this_df['행정동']\n",
        "  result['address'] = this_df['도로명주소']\n",
        "\n",
        "  for row in range(len(this_df.index)):\n",
        "    if pd.isnull(this_df.iat[row, 3]):\n",
        "      position = get_XY_from_addr(this_df.iat[row, 1])\n",
        "      if len(position) > 0:\n",
        "        [x, y] = position\n",
        "        result.iat[row, 3] = x\n",
        "        result.iat[row, 4] = y\n",
        "    else:\n",
        "      result.iat[row, 3] = this_df.iat[row, 4]\n",
        "      result.iat[row, 4] = this_df.iat[row, 3]\n",
        "\n",
        "  result.dropna(subset=['x'], inplace=True)\n",
        "\n",
        "  return result"
      ],
      "metadata": {
        "id": "vOPN1uE0x_Z1"
      },
      "execution_count": null,
      "outputs": []
    },
    {
      "cell_type": "markdown",
      "source": [
        "## 은평구"
      ],
      "metadata": {
        "id": "RWRF0V5TxR5P"
      }
    },
    {
      "cell_type": "code",
      "source": [
        "def process_은평(df):\n",
        "  this_df = df.copy()\n",
        "\n",
        "  result = pd.DataFrame(basic_schema)\n",
        "\n",
        "  result['id'] = [uuid.uuid4() for _ in range(len(this_df.index))]\n",
        "  result['region'] = this_df['행정동']\n",
        "  result['address'] = this_df['설치장소'].map('서울특별시 은평구 {}'.format)\n",
        "\n",
        "  for row in range(len(this_df.index)):\n",
        "    position = get_XY_from_addr(this_df.iat[row, 1])\n",
        "    if len(position) > 0:\n",
        "      [x, y] = position\n",
        "      result.iat[row, 3] = x\n",
        "      result.iat[row, 4] = y\n",
        "\n",
        "  result.dropna(subset=['x'], inplace=True)\n",
        "\n",
        "  return result"
      ],
      "metadata": {
        "id": "QzjWcCq4x_cJ"
      },
      "execution_count": null,
      "outputs": []
    },
    {
      "cell_type": "markdown",
      "source": [
        "## 종로구"
      ],
      "metadata": {
        "id": "1mIqxVWrxTDJ"
      }
    },
    {
      "cell_type": "code",
      "source": [
        "def process_종로(df):\n",
        "  this_df = df.copy()\n",
        "\n",
        "  result = pd.DataFrame(basic_schema)\n",
        "\n",
        "  result['id'] = [uuid.uuid4() for _ in range(len(this_df.index))]\n",
        "  result['region'] = this_df['행정동']\n",
        "  result['address'] = this_df['도로명주소']\n",
        "\n",
        "  result['x'] = this_df['경도']\n",
        "  result['y'] = this_df['위도']\n",
        "\n",
        "  result.dropna(subset=['x'], inplace=True)\n",
        "\n",
        "  return result"
      ],
      "metadata": {
        "id": "BhupNwb-x_eg"
      },
      "execution_count": null,
      "outputs": []
    },
    {
      "cell_type": "markdown",
      "source": [
        "# 전처리 실행 함수"
      ],
      "metadata": {
        "id": "Tp_BV7MExV-6"
      }
    },
    {
      "cell_type": "code",
      "source": [
        "for key, value in clothing_box_loc_dic.items():\n",
        "  if key == '관악구':\n",
        "    process_result = process_관악(value)\n",
        "    location_df = pd.concat([location_df, process_result], ignore_index = True )\n",
        "\n",
        "  if key == '광진구':\n",
        "    process_result = process_광진(value)\n",
        "    location_df = pd.concat([location_df, process_result], ignore_index = True )\n",
        "\n",
        "  if key == '구로구':\n",
        "    process_result = process_구로(value)\n",
        "    location_df = pd.concat([location_df, process_result], ignore_index = True )\n",
        "\n",
        "  if key == '금천구':\n",
        "    process_result = process_금천(value)\n",
        "    location_df = pd.concat([location_df, process_result], ignore_index = True )\n",
        "\n",
        "  if key == '동대문구':\n",
        "    process_result = process_동대문(value)\n",
        "    location_df = pd.concat([location_df, process_result], ignore_index = True )\n"
      ],
      "metadata": {
        "id": "5v2CDTE_x_i6"
      },
      "execution_count": null,
      "outputs": []
    },
    {
      "cell_type": "code",
      "source": [
        "for key, value in clothing_box_loc_dic.items():\n",
        "  if key == '동작구':\n",
        "    process_result = process_동작(value)\n",
        "    location_df = pd.concat([location_df, process_result], ignore_index = True )\n",
        "\n",
        "  if key == '마포구':\n",
        "    process_result = process_마포(value)\n",
        "    location_df = pd.concat([location_df, process_result], ignore_index = True )\n",
        "\n",
        "  if key == '서대문구':\n",
        "    process_result = process_서대문(value)\n",
        "    location_df = pd.concat([location_df, process_result], ignore_index = True )\n",
        "\n",
        "  if key == '양천구':\n",
        "    process_result = process_양천(value)\n",
        "    location_df = pd.concat([location_df, process_result], ignore_index = True )"
      ],
      "metadata": {
        "id": "Jg51RYP-yrj9"
      },
      "execution_count": null,
      "outputs": []
    },
    {
      "cell_type": "code",
      "source": [
        "for key, value in clothing_box_loc_dic.items():\n",
        "  if key == '영등포구':\n",
        "    process_result = process_영등포(value)\n",
        "    location_df = pd.concat([location_df, process_result], ignore_index = True )\n",
        "\n",
        "  if key == '은평구':\n",
        "    process_result = process_은평(value)\n",
        "    location_df = pd.concat([location_df, process_result], ignore_index = True )\n",
        "\n",
        "  if key == '종로구':\n",
        "    process_result = process_종로(value)\n",
        "    location_df = pd.concat([location_df, process_result], ignore_index = True )"
      ],
      "metadata": {
        "id": "bvXwGNDoyvSv"
      },
      "execution_count": null,
      "outputs": []
    },
    {
      "cell_type": "markdown",
      "source": [
        "# CSV 추출 & CSV -> JSON"
      ],
      "metadata": {
        "id": "qbe_z8M0xowg"
      }
    },
    {
      "cell_type": "code",
      "source": [
        "# csv export\n",
        "export_csv_file = # export할 directory ex. 'content/drive/MyDrive/주소 데이터/data_location.csv'\n",
        "location_df.to_csv(export_csv_file, sep=',', encoding='utf-8-sig', index = False)\n"
      ],
      "metadata": {
        "id": "gZnGAzRO5mTU"
      },
      "execution_count": null,
      "outputs": []
    },
    {
      "cell_type": "code",
      "source": [
        "processed_csv = # export된 csv directory ex. /content/drive/MyDrive/주소 데이터/data_location.csv\n",
        "export_json_file = # export할 directory ex. /content/drive/MyDrive/주소 데이터/data_location.json\n",
        "\n",
        "location_csv_df = pd.read_csv(processed_csv)\n",
        "location_csv_df['x'] = location_csv_df['x'].map(str)\n",
        "location_csv_df['y'] = location_csv_df['y'].map(str)\n",
        "location_csv_df.to_json(export_json_file, force_ascii=False, orient=\"records\")"
      ],
      "metadata": {
        "id": "pOBMT6HWy9fK"
      },
      "execution_count": null,
      "outputs": []
    },
    {
      "cell_type": "markdown",
      "source": [
        "#(번외) 구-동 데이터 수집"
      ],
      "metadata": {
        "id": "RfWRM5DPea0V"
      }
    },
    {
      "cell_type": "code",
      "source": [
        "def get_region_관악(df):\n",
        "  return df['의류수거함'].map(lambda x: x.split('-')[0]).unique()\n",
        "\n",
        "def get_region_by_행정동(df):\n",
        "  return df['행정동'].unique()\n"
      ],
      "metadata": {
        "id": "9WTDQzQUg2fP"
      },
      "execution_count": null,
      "outputs": []
    },
    {
      "cell_type": "code",
      "source": [
        "district_region_dic = {}\n",
        "for key, value in clothing_box_loc_dic.items():\n",
        "  if key == '관악구':\n",
        "    district_region_dic[key] = list(get_region_관악(value))\n",
        "  elif key == '구로구':\n",
        "    continue\n",
        "  else:\n",
        "    district_region_dic[key] = list(get_region_by_행정동(value))\n",
        "\n",
        "district_region_dic"
      ],
      "metadata": {
        "colab": {
          "base_uri": "https://localhost:8080/"
        },
        "id": "ptzjBcOBeZqo",
        "outputId": "8ebd6c4e-f77f-48ac-bd56-aab0e3c670ea"
      },
      "execution_count": null,
      "outputs": [
        {
          "output_type": "execute_result",
          "data": {
            "text/plain": [
              "{'관악구': ['낙성대동',\n",
              "  '난곡동',\n",
              "  '난향동',\n",
              "  '남현동',\n",
              "  '대학동',\n",
              "  '미성동',\n",
              "  '삼성동',\n",
              "  '서림동',\n",
              "  '서원동',\n",
              "  '신사동',\n",
              "  '신원동',\n",
              "  '인헌동',\n",
              "  '조원동',\n",
              "  '청룡동',\n",
              "  '보라매동',\n",
              "  '은천동',\n",
              "  '신림동',\n",
              "  '중앙동',\n",
              "  '행운동',\n",
              "  '청림동',\n",
              "  '성현동'],\n",
              " '광진구': ['중곡1동',\n",
              "  '중곡2동',\n",
              "  '중곡3동',\n",
              "  '중곡4동',\n",
              "  '능동',\n",
              "  '구의1동',\n",
              "  '구의2동',\n",
              "  '구의3동',\n",
              "  '광장동',\n",
              "  '자양1동',\n",
              "  '자양2동',\n",
              "  '자양3동',\n",
              "  '자양4동',\n",
              "  '화양동',\n",
              "  '군자동'],\n",
              " '금천구': ['가산동',\n",
              "  '독산1동',\n",
              "  '독산2동',\n",
              "  '독산3동',\n",
              "  '독산4동',\n",
              "  '시흥1동',\n",
              "  '시흥2동',\n",
              "  '시흥3동',\n",
              "  '시흥4동',\n",
              "  '시흥5동'],\n",
              " '동대문구': ['답십리1동',\n",
              "  '답십리2동',\n",
              "  '장안1동',\n",
              "  '장안2동',\n",
              "  '전농동',\n",
              "  '용신동',\n",
              "  '제기동',\n",
              "  '청량리동',\n",
              "  '회기동',\n",
              "  '휘경1동',\n",
              "  '휘경2동',\n",
              "  '이문1동',\n",
              "  '이문2동'],\n",
              " '동작구': ['신대방1동',\n",
              "  '신대방2동',\n",
              "  '대방동',\n",
              "  '노량진1동',\n",
              "  '노량진2동',\n",
              "  '상도1동',\n",
              "  '상도2동',\n",
              "  '상도3동',\n",
              "  '상도4동',\n",
              "  '흑석동',\n",
              "  '사당1동',\n",
              "  '사당2동',\n",
              "  '사당3동',\n",
              "  '사당4동',\n",
              "  '사당5동'],\n",
              " '마포구': ['공덕동',\n",
              "  '아현동',\n",
              "  '도화동',\n",
              "  '용강동',\n",
              "  '대흥동',\n",
              "  '염리동',\n",
              "  '신수동',\n",
              "  '서강동',\n",
              "  '서교동',\n",
              "  '합정동',\n",
              "  '망원1동',\n",
              "  '망원2동',\n",
              "  '연남동',\n",
              "  '성산1동',\n",
              "  '성산2동',\n",
              "  '상암동'],\n",
              " '서대문구': ['충현동',\n",
              "  '홍제1동',\n",
              "  '홍제2동',\n",
              "  '홍제3동',\n",
              "  '홍은1동',\n",
              "  '홍은2동',\n",
              "  '남가좌2동',\n",
              "  '신촌동',\n",
              "  '연희동',\n",
              "  '남가좌1동',\n",
              "  '북가좌1동',\n",
              "  '북가좌2동',\n",
              "  '천연동',\n",
              "  '북아현동'],\n",
              " '양천구': ['목1동',\n",
              "  '목2동',\n",
              "  '목3동',\n",
              "  '목4동',\n",
              "  '신월1동',\n",
              "  '신월2동',\n",
              "  '신월3동',\n",
              "  '신월4동',\n",
              "  '신월5동',\n",
              "  '신월6동',\n",
              "  '신월7동',\n",
              "  '신정1동',\n",
              "  '신정2동',\n",
              "  '신정3동',\n",
              "  '신정4동',\n",
              "  '신정7동'],\n",
              " '영등포구': ['영등포본동',\n",
              "  '영등포동',\n",
              "  '당산제1동',\n",
              "  '당산제2동',\n",
              "  '도림동',\n",
              "  '문래동',\n",
              "  '양평제1동',\n",
              "  '양평제2동',\n",
              "  '신길제1동',\n",
              "  '신길제3동',\n",
              "  '신길제4동',\n",
              "  '신길제5동',\n",
              "  '신길제6동',\n",
              "  '신길제7동',\n",
              "  '대림제1동',\n",
              "  '대림제2동',\n",
              "  '대림제3동'],\n",
              " '은평구': ['녹번동',\n",
              "  '불광1동',\n",
              "  '불광2동',\n",
              "  '갈현1동',\n",
              "  '갈현2동',\n",
              "  '구산동',\n",
              "  '대조동',\n",
              "  '응암1동',\n",
              "  '응암2동',\n",
              "  '응암3동',\n",
              "  '역촌동',\n",
              "  '신사1동',\n",
              "  '신사2동',\n",
              "  '증산동',\n",
              "  '수색동'],\n",
              " '종로구': ['청운동',\n",
              "  '창성동',\n",
              "  '효자동',\n",
              "  '신교동',\n",
              "  '옥인동',\n",
              "  '누상동',\n",
              "  '무악동',\n",
              "  '행촌동',\n",
              "  '누하동',\n",
              "  '사직동',\n",
              "  '필운동',\n",
              "  '가회동',\n",
              "  '계동',\n",
              "  '원서동',\n",
              "  '팔판동',\n",
              "  '삼청동',\n",
              "  '소격동',\n",
              "  '평창동',\n",
              "  '신영동',\n",
              "  '구기동',\n",
              "  '부암동',\n",
              "  '홍지동',\n",
              "  '명륜동',\n",
              "  '이화동',\n",
              "  '동숭동',\n",
              "  '연건동',\n",
              "  '혜화동',\n",
              "  '창신동',\n",
              "  '숭인동']}"
            ]
          },
          "metadata": {},
          "execution_count": 119
        }
      ]
    },
    {
      "cell_type": "markdown",
      "source": [],
      "metadata": {
        "id": "fNTtf3e6xgQw"
      }
    }
  ]
}